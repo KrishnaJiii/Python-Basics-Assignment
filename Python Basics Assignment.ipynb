{
 "cells": [
  {
   "cell_type": "raw",
   "id": "de770060-8f03-4816-8ef7-910c257a6ac5",
   "metadata": {},
   "source": [
    "Python Basics Questions\n",
    "Q1. What is Python, and why is it popular?\n",
    "A1. Python is a high level programing language known for its simple syntax which is easy to write, read and understand.\n",
    "    It is popular because:\n",
    "    a.\tIt is easy to learn and write.\n",
    "    b.\tIt has a large community and many libraries.\n",
    "    c.\tIt’s used in trending fields like data science, AI, and web development."
   ]
  },
  {
   "cell_type": "raw",
   "id": "a86ec0c3-277a-47bf-bc53-4fbb842c9d35",
   "metadata": {},
   "source": [
    "Q2. What is an interpreter in Python?\n",
    "A2. It is a program in python programing language that reads and runs python code line by line. It check each line, translates it and shows the result."
   ]
  },
  {
   "cell_type": "raw",
   "id": "c0541653-7d12-41cb-b90a-886a33e3bc9f",
   "metadata": {},
   "source": [
    "Q3. What are pre-defined keywords in Python?\n",
    "A3. They are the special words that have fixed meanings in the python programming language. They are used to write Python rules and cannot be used as variable names. Ex: if, else, for, etc."
   ]
  },
  {
   "cell_type": "raw",
   "id": "df442eef-d50a-4dd5-9ab6-03ea467162e9",
   "metadata": {},
   "source": [
    "Q4. Can keywords be used as variable names?\n",
    "A4. No, we cannot use keywords as variable names in Python. Using them as variable names will cause an error."
   ]
  },
  {
   "cell_type": "raw",
   "id": "f6b948b3-fb31-4fd5-bb7e-6d6b969b3499",
   "metadata": {},
   "source": [
    "Q5. What is mutability in Python?\n",
    "A5. Mutability simply means that whether a value can be changed after it is created.\n",
    "    Mutable objects can be changed. Ex: list. \n",
    "    Immutable objects cannot be changed. Ex: int, str, etc. "
   ]
  },
  {
   "cell_type": "raw",
   "id": "ee846dd9-157c-4a2f-8ffe-c8640b53ddbd",
   "metadata": {},
   "source": [
    "Q6. Why lists mutable, but tuples are are immutable\n",
    "A6. Lists are mutable because you can change, add, or remove items in them after creation.\n",
    "Tuples are immutable because once created, their items cannot be changed. This helps keep data safe and unchanged."
   ]
  },
  {
   "cell_type": "raw",
   "id": "59f7c7e1-2958-421b-8ede-debe0616f963",
   "metadata": {},
   "source": [
    "Q7. What is the difference between “==” and “is” operators in Python?  \n",
    "A7.   “==”   checks if values are equal.\n",
    "      “is”   checks if two variables point to the same object in memory."
   ]
  },
  {
   "cell_type": "raw",
   "id": "75758e36-7cbf-4e15-bc47-2169e0232893",
   "metadata": {},
   "source": [
    "Q8. What are logical operators in Python?\n",
    "A8.  Logical operators are used to combine two or more conditions. They return True or False.\n",
    "    Logical operators are of three types\n",
    "    a.\t“and” True when both conditions are true.\n",
    "    b.\t“or” True when at least one condition is true.\n",
    "    c.\t“not” True become false and false become true."
   ]
  },
  {
   "cell_type": "raw",
   "id": "b02f8751-4712-4391-9805-4bea3bd7b7cd",
   "metadata": {},
   "source": [
    "Q9. What is type casting in Python?\n",
    "A9. Type casting means converting one data type into another. \n",
    "    Ex: changing string to int or changing float to int."
   ]
  },
  {
   "cell_type": "raw",
   "id": "5866e755-e3a8-473e-bac8-6b1b9ecc1788",
   "metadata": {},
   "source": [
    "Q10. What is the difference between implicit and explicit type casting\n",
    "A10. Implicit casting is done automatically by Python.\n",
    "     Explicit casting is done manually by the programmer using functions like int(), float(), str()."
   ]
  },
  {
   "cell_type": "raw",
   "id": "d6efbc07-da91-4475-b544-79eb4336b2a3",
   "metadata": {},
   "source": [
    "Q11. What is the purpose of conditional statements in Python?\n",
    "A11. Conditional statements are used to make decisions in a program. They let the program run certain code only if a condition is true."
   ]
  },
  {
   "cell_type": "raw",
   "id": "5d75264d-1b80-4340-91f4-b455793bf0bc",
   "metadata": {},
   "source": [
    "Q12. How does the elif statement work?\n",
    "A12. The elif statement is used to check multiple conditions in Python. It runs only if the previous if condition is false."
   ]
  },
  {
   "cell_type": "raw",
   "id": "a52c7a82-bab8-47c3-bbd7-5da189d9a0dc",
   "metadata": {},
   "source": [
    "Q13. What is the difference between for and while loops?\n",
    "A13. for loop is used when you know how many times to run the loop.\n",
    "     while loop is used when you want to run the loop until a condition becomes false."
   ]
  },
  {
   "cell_type": "raw",
   "id": "1810b818-0e1d-4bfc-89ba-b6147447167e",
   "metadata": {},
   "source": [
    "Q14. Describe a scenario where a while loop is more suitable than a for loop.\n",
    "A14. A while loop is better when you don’t know how many times the loop will run."
   ]
  },
  {
   "cell_type": "raw",
   "id": "cf5bae5c-6caf-422d-b66c-b862cdd57bf9",
   "metadata": {},
   "source": [
    "Practical Questions:"
   ]
  },
  {
   "cell_type": "code",
   "execution_count": 2,
   "id": "92aad681-0fde-4be3-98b8-0bf1116b049e",
   "metadata": {},
   "outputs": [
    {
     "name": "stdout",
     "output_type": "stream",
     "text": [
      "Hello, World!\n"
     ]
    }
   ],
   "source": [
    "# Q1. Write a Python program to print \"Hello, World!”\n",
    "\n",
    "print(\"Hello, World!\")"
   ]
  },
  {
   "cell_type": "code",
   "execution_count": 3,
   "id": "14e45294-9923-4b6a-b4dd-2c5b90aaa0d2",
   "metadata": {},
   "outputs": [
    {
     "name": "stdout",
     "output_type": "stream",
     "text": [
      "My name is Krishna\n",
      "I am 20 years old\n"
     ]
    }
   ],
   "source": [
    "# Q2. Write a Python program that displays your name and age.\n",
    "\n",
    "name = \"Krishna\"\n",
    "age = 20  \n",
    "print(\"My name is\", name)\n",
    "print(\"I am\", age, \"years old\")"
   ]
  },
  {
   "cell_type": "code",
   "execution_count": 5,
   "id": "2c3395e5-5c69-44b3-b73b-a0ffef88a305",
   "metadata": {},
   "outputs": [
    {
     "name": "stdout",
     "output_type": "stream",
     "text": [
      "\n",
      "Here is a list of the Python keywords.  Enter any keyword to get more help.\n",
      "\n",
      "False               class               from                or\n",
      "None                continue            global              pass\n",
      "True                def                 if                  raise\n",
      "and                 del                 import              return\n",
      "as                  elif                in                  try\n",
      "assert              else                is                  while\n",
      "async               except              lambda              with\n",
      "await               finally             nonlocal            yield\n",
      "break               for                 not                 \n",
      "\n"
     ]
    }
   ],
   "source": [
    "# Q3.  Write code to print all the pre-defined keywords in Python using the keyword library.\n",
    "\n",
    "help(\"keywords\")"
   ]
  },
  {
   "cell_type": "code",
   "execution_count": 7,
   "id": "faf54800-644e-4d24-9520-6135fd76a8ed",
   "metadata": {},
   "outputs": [
    {
     "name": "stdin",
     "output_type": "stream",
     "text": [
      "Enter a word: for\n"
     ]
    },
    {
     "name": "stdout",
     "output_type": "stream",
     "text": [
      "It is a keyword.\n"
     ]
    }
   ],
   "source": [
    "# Q4. Write a program that checks if a given word is a Python keyword.\n",
    "\n",
    "import keyword\n",
    "word = input(\"Enter a word:\")\n",
    "if keyword.iskeyword(word):\n",
    "    print(\"It is a keyword.\")\n",
    "else:\n",
    "    print(\"It is not a keyword.\")"
   ]
  },
  {
   "cell_type": "code",
   "execution_count": 8,
   "id": "a9785d36-f484-4146-8bbf-7a9b130df836",
   "metadata": {},
   "outputs": [
    {
     "name": "stdin",
     "output_type": "stream",
     "text": [
      "Enter a word: what\n"
     ]
    },
    {
     "name": "stdout",
     "output_type": "stream",
     "text": [
      "It is not a keyword.\n"
     ]
    }
   ],
   "source": [
    "import keyword\n",
    "word = input(\"Enter a word:\")\n",
    "if keyword.iskeyword(word):\n",
    "    print(\"It is a keyword.\")\n",
    "else:\n",
    "    print(\"It is not a keyword.\")"
   ]
  },
  {
   "cell_type": "code",
   "execution_count": 9,
   "id": "894a401f-dcf2-4c66-803a-73d6d9bcbf8d",
   "metadata": {},
   "outputs": [
    {
     "name": "stdout",
     "output_type": "stream",
     "text": [
      "List: [10, 2, 3]\n"
     ]
    }
   ],
   "source": [
    "# Q5. Create a list and tuple in Python, and demonstrate how attempting to change an element works differently for each.\n",
    "\n",
    "# List (can change)\n",
    "my_list = [1, 2, 3]\n",
    "my_list[0] = 10\n",
    "print(\"List:\", my_list)  "
   ]
  },
  {
   "cell_type": "code",
   "execution_count": 11,
   "id": "ffd9e459-064a-40a2-bc86-3d013d46751f",
   "metadata": {},
   "outputs": [
    {
     "name": "stdout",
     "output_type": "stream",
     "text": [
      "Tuple: (1, 2, 3)\n"
     ]
    }
   ],
   "source": [
    "# Tuple (cannot change)\n",
    "my_tuple = (1, 2, 3)\n",
    "# my_tuple[0] = 10     #  This will give an error\n",
    "print(\"Tuple:\", my_tuple) "
   ]
  },
  {
   "cell_type": "code",
   "execution_count": 13,
   "id": "e92a8a77-18e9-41ed-a319-acdcd357c8c6",
   "metadata": {},
   "outputs": [
    {
     "name": "stdout",
     "output_type": "stream",
     "text": [
      "Inside function: 15\n",
      "Outside function: 10\n",
      "Inside function: [100, 2, 3]\n",
      "Outside function: [100, 2, 3]\n"
     ]
    }
   ],
   "source": [
    "# Q6 Write a function to demonstrate the behavior of mutable and immutable arguments.\n",
    "\n",
    "# Function with immutable argument (number)\n",
    "def change_number(x):\n",
    "    x = x + 5\n",
    "    print(\"Inside function:\", x)\n",
    "# Function with mutable argument (list)\n",
    "def change_list(my_list):\n",
    "    my_list[0] = 100\n",
    "    print(\"Inside function:\", my_list)\n",
    "# Immutable example\n",
    "num = 10\n",
    "change_number(num)\n",
    "print(\"Outside function:\", num)  \n",
    "# Mutable example\n",
    "lst = [1, 2, 3]\n",
    "change_list(lst)\n",
    "print(\"Outside function:\", lst)  "
   ]
  },
  {
   "cell_type": "code",
   "execution_count": 15,
   "id": "cd28f24a-bc65-41e2-a403-8e9ead129331",
   "metadata": {},
   "outputs": [
    {
     "name": "stdin",
     "output_type": "stream",
     "text": [
      "Enter first number:  45\n",
      "Enter second number:  9\n"
     ]
    },
    {
     "name": "stdout",
     "output_type": "stream",
     "text": [
      "Addition: 54.0\n",
      "Subtraction: 36.0\n",
      "Multiplication: 405.0\n",
      "Division: 5.0\n"
     ]
    }
   ],
   "source": [
    "# Q7 Write a program that performs basic arithmetic operations on two user-input numbers.\n",
    "\n",
    "num1 = float(input(\"Enter first number: \"))\n",
    "num2 = float(input(\"Enter second number: \"))\n",
    "print(\"Addition:\", num1 + num2)\n",
    "print(\"Subtraction:\", num1 - num2)\n",
    "print(\"Multiplication:\", num1 * num2)\n",
    "print(\"Division:\", num1 / num2)"
   ]
  },
  {
   "cell_type": "code",
   "execution_count": 16,
   "id": "14b86b66-6008-46a0-8aaa-cd2106d54916",
   "metadata": {},
   "outputs": [
    {
     "name": "stdin",
     "output_type": "stream",
     "text": [
      "Enter your age:  20\n",
      "Do you have an ID? (yes/no):  no\n"
     ]
    },
    {
     "name": "stdout",
     "output_type": "stream",
     "text": [
      "You might be allowed, but need more checking.\n"
     ]
    }
   ],
   "source": [
    "# Q8 Write a program to demonstrate the use of logical operators.\n",
    "\n",
    "age = int(input(\"Enter your age: \"))\n",
    "has_id = input(\"Do you have an ID? (yes/no): \")\n",
    "if age >= 18 and has_id == \"yes\":\n",
    "    print(\"You are allowed to enter.\")\n",
    "elif age >= 18 or has_id == \"yes\":\n",
    "    print(\"You might be allowed, but need more checking.\")\n",
    "else:\n",
    "    print(\"You are not allowed to enter.\")"
   ]
  },
  {
   "cell_type": "code",
   "execution_count": 17,
   "id": "c0ddeeb3-a4bb-4d88-873d-048c7ae39142",
   "metadata": {},
   "outputs": [
    {
     "name": "stdin",
     "output_type": "stream",
     "text": [
      "Enter something:  7\n"
     ]
    },
    {
     "name": "stdout",
     "output_type": "stream",
     "text": [
      "As integer: 7\n",
      "As float: 7.0\n",
      "As boolean: True\n"
     ]
    }
   ],
   "source": [
    "# Q9 Write a Python program to convert user input from string to integer, float, and boolean types.\n",
    "\n",
    "value = input(\"Enter something: \")\n",
    "print(\"As integer:\", int(value))\n",
    "print(\"As float:\", float(value))\n",
    "print(\"As boolean:\", bool(value))"
   ]
  },
  {
   "cell_type": "code",
   "execution_count": 18,
   "id": "016cfd58-d727-417d-8164-9e745621a9b1",
   "metadata": {},
   "outputs": [
    {
     "name": "stdout",
     "output_type": "stream",
     "text": [
      "String list: ['1', '2', '3']\n",
      "Integer list: [1, 2, 3]\n"
     ]
    }
   ],
   "source": [
    "# Q10 Write code to demonstrate type casting with list elements.\n",
    "\n",
    "str_list = [\"1\", \"2\", \"3\"]\n",
    "int_list = []\n",
    "for item in str_list:\n",
    "    int_list.append(int(item))\n",
    "print(\"String list:\", str_list)\n",
    "print(\"Integer list:\", int_list)"
   ]
  },
  {
   "cell_type": "code",
   "execution_count": 22,
   "id": "f22a5b15-313d-450f-b557-eb2ac29d8b5e",
   "metadata": {},
   "outputs": [
    {
     "name": "stdin",
     "output_type": "stream",
     "text": [
      "Enter a number:  7\n"
     ]
    },
    {
     "name": "stdout",
     "output_type": "stream",
     "text": [
      "The number is positive.\n"
     ]
    }
   ],
   "source": [
    "# Q11 Write a program that checks if a number is positive, negative, or zero.\n",
    "\n",
    "num = float(input(\"Enter a number: \"))\n",
    "if num > 0:\n",
    "    print(\"The number is positive.\")\n",
    "elif num < 0:\n",
    "    print(\"The number is negative.\")\n",
    "else:\n",
    "    print(\"The number is zero.\")"
   ]
  },
  {
   "cell_type": "code",
   "execution_count": 23,
   "id": "609bc0ee-06ce-490d-81c3-033f0918286a",
   "metadata": {},
   "outputs": [
    {
     "name": "stdout",
     "output_type": "stream",
     "text": [
      "1\n",
      "2\n",
      "3\n",
      "4\n",
      "5\n",
      "6\n",
      "7\n",
      "8\n",
      "9\n",
      "10\n"
     ]
    }
   ],
   "source": [
    "# Q12 Write a for loop to print numbers from 1 to 10.\n",
    "\n",
    "for i in range(1, 11):\n",
    "    print(i)"
   ]
  },
  {
   "cell_type": "code",
   "execution_count": 24,
   "id": "e4f68f90-b0d7-4109-af63-8883526b09ab",
   "metadata": {},
   "outputs": [
    {
     "name": "stdout",
     "output_type": "stream",
     "text": [
      "Sum of even numbers from 1 to 50 is: 650\n"
     ]
    }
   ],
   "source": [
    "# Q13 Write a Python program to find the sum of all even numbers between 1 and 50.\n",
    "\n",
    "sum_even = 0\n",
    "for i in range(2, 51, 2):  # even numbers from 2 to 50\n",
    "    sum_even += i\n",
    "print(\"Sum of even numbers from 1 to 50 is:\", sum_even)"
   ]
  },
  {
   "cell_type": "code",
   "execution_count": 26,
   "id": "b08a1f08-1d38-43a5-b470-c4be39a74bb1",
   "metadata": {},
   "outputs": [
    {
     "name": "stdin",
     "output_type": "stream",
     "text": [
      "Enter a string:  Krishna\n"
     ]
    },
    {
     "name": "stdout",
     "output_type": "stream",
     "text": [
      "Reversed string: anhsirK\n"
     ]
    }
   ],
   "source": [
    "# Q14 Write a program to reverse a string using a while loop\n",
    "\n",
    "text = input(\"Enter a string: \")\n",
    "reversed_text = \"\"\n",
    "i = len(text) - 1\n",
    "while i >= 0:\n",
    "    reversed_text += text[i]\n",
    "    i -= 1\n",
    "print(\"Reversed string:\", reversed_text)"
   ]
  },
  {
   "cell_type": "code",
   "execution_count": 27,
   "id": "018e6169-327b-402d-a3aa-16a943565b4e",
   "metadata": {},
   "outputs": [
    {
     "name": "stdin",
     "output_type": "stream",
     "text": [
      "Enter a number:  10\n"
     ]
    },
    {
     "name": "stdout",
     "output_type": "stream",
     "text": [
      "Factorial of 10 is: 3628800\n"
     ]
    }
   ],
   "source": [
    "# Q15  Write a Python program to calculate the factorial of a number provided by the user using a while loop.\n",
    "\n",
    "num = int(input(\"Enter a number: \"))\n",
    "factorial = 1\n",
    "i = 1\n",
    "while i <= num:\n",
    "    factorial *= i\n",
    "    i += 1\n",
    "print(\"Factorial of\", num, \"is:\", factorial)"
   ]
  },
  {
   "cell_type": "code",
   "execution_count": null,
   "id": "33414c2e-3a0e-48c1-8fbc-067b718c2e3a",
   "metadata": {},
   "outputs": [],
   "source": []
  }
 ],
 "metadata": {
  "kernelspec": {
   "display_name": "Python 3 (ipykernel)",
   "language": "python",
   "name": "python3"
  },
  "language_info": {
   "codemirror_mode": {
    "name": "ipython",
    "version": 3
   },
   "file_extension": ".py",
   "mimetype": "text/x-python",
   "name": "python",
   "nbconvert_exporter": "python",
   "pygments_lexer": "ipython3",
   "version": "3.12.7"
  }
 },
 "nbformat": 4,
 "nbformat_minor": 5
}
